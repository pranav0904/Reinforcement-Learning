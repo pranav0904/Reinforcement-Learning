{
 "cells": [
  {
   "cell_type": "markdown",
   "metadata": {},
   "source": [
    "# <center>MountainCar Reinforcement learning   "
   ]
  },
  {
   "cell_type": "code",
   "execution_count": 1,
   "metadata": {},
   "outputs": [],
   "source": [
    "import gym\n",
    "import numpy as np\n",
    "import matplotlib.pyplot as plt"
   ]
  },
  {
   "cell_type": "code",
   "execution_count": 2,
   "metadata": {},
   "outputs": [],
   "source": [
    "env = gym.make(\"MountainCar-v0\")"
   ]
  },
  {
   "cell_type": "markdown",
   "metadata": {},
   "source": [
    "__States, the actions and the size of the Q-table :__"
   ]
  },
  {
   "cell_type": "code",
   "execution_count": 12,
   "metadata": {},
   "outputs": [
    {
     "name": "stdout",
     "output_type": "stream",
     "text": [
      "Qtable size :  (20, 20, 3)\n"
     ]
    }
   ],
   "source": [
    "DISCRETE_OS_SIZE = [20, 20]\n",
    "DISCRETE_OS_SIZE = [20] * len(env.observation_space.high) #observation_space\n",
    "discrete_os_win_size = (env.observation_space.high - env.observation_space.low)/DISCRETE_OS_SIZE\n",
    "\n",
    "## Q-table\n",
    "q_table = np.random.uniform(low=-2, high=0, size=(DISCRETE_OS_SIZE + [env.action_space.n]))\n",
    "\n",
    "print(\"Qtable size : \",q_table.shape)"
   ]
  },
  {
   "cell_type": "code",
   "execution_count": 4,
   "metadata": {},
   "outputs": [
    {
     "name": "stdout",
     "output_type": "stream",
     "text": [
      "Action Size :  3\n",
      "State size :  20\n",
      "High Values:  [0.6  0.07]\n",
      "Low values:  [-1.2  -0.07]\n"
     ]
    }
   ],
   "source": [
    "print(\"Action Size : \",env.action_space.n)\n",
    "print(\"State size : \",len(q_table))\n",
    "print(\"High Values: \",env.observation_space.high)\n",
    "print(\"Low values: \",env.observation_space.low)"
   ]
  },
  {
   "cell_type": "code",
   "execution_count": null,
   "metadata": {},
   "outputs": [],
   "source": []
  },
  {
   "cell_type": "code",
   "execution_count": 16,
   "metadata": {},
   "outputs": [],
   "source": [
    "def get_discrete_state(state):\n",
    "    discrete_state = (state - env.observation_space.low)/discrete_os_win_size\n",
    "    return tuple(discrete_state.astype(np.int))\n",
    "\n",
    "#Tuple to look up the 3 Q values for the available actions in the q-table"
   ]
  },
  {
   "cell_type": "markdown",
   "metadata": {},
   "source": [
    "### 1. Model using baseline parameters."
   ]
  },
  {
   "cell_type": "code",
   "execution_count": 17,
   "metadata": {},
   "outputs": [
    {
     "name": "stdout",
     "output_type": "stream",
     "text": [
      "Episode:     0, average reward: -0.2, current epsilon: 1.00\n",
      "Episode:  1000, average reward: -197.8, current epsilon: -9.00\n",
      "Episode:  2000, average reward: -194.9, current epsilon: -19.00\n",
      "Episode:  3000, average reward: -194.3, current epsilon: -24.00\n",
      "Episode:  4000, average reward: -189.8, current epsilon: -24.00\n",
      "Episode:  5000, average reward: -179.2, current epsilon: -24.00\n"
     ]
    }
   ],
   "source": [
    "# objective is to get the cart to the flag.\n",
    "# for now, let's just move randomly:\n",
    "ep_rewards = []\n",
    "aggr_ep_rewards = {'ep': [], 'avg': [], 'max': [], 'min': []}\n",
    "\n",
    "EPISODES = 5001\n",
    "LEARNING_RATE = 0.7 #aplha\n",
    "DISCOUNT = 0.8 #gamma\n",
    "\n",
    "# Exploration settings\n",
    "epsilon = 1  # not a constant, qoing to be decayed\n",
    "epsilon_decay_value = 0.01\n",
    "\n",
    "START_EPSILON_DECAYING = 1\n",
    "END_EPSILON_DECAYING = EPISODES//2\n",
    "\n",
    "SHOW_EVERY = 1000\n",
    "STATS_EVERY = 1000\n",
    "\n",
    "\n",
    "for episode in range(EPISODES):\n",
    "    episode_reward = 0\n",
    "    \n",
    "    discrete_state = get_discrete_state(env.reset())\n",
    "    done = False\n",
    "\n",
    "    while not done:\n",
    "\n",
    "        if np.random.random() > epsilon: # epsilon: exploratoin rate\n",
    "            # Get action from Q table\n",
    "            action = np.argmax(q_table[discrete_state])\n",
    "        else:\n",
    "            # Get random action\n",
    "            action = np.random.randint(0, env.action_space.n)\n",
    "\n",
    "\n",
    "        new_state, reward, done, _ = env.step(action)\n",
    "        episode_reward += reward\n",
    "\n",
    "        new_discrete_state = get_discrete_state(new_state)\n",
    "\n",
    "        if episode % SHOW_EVERY == 0:\n",
    "            env.render()\n",
    "        #new_q = (1 - LEARNING_RATE) * current_q + LEARNING_RATE * (reward + DISCOUNT * max_future_q)\n",
    "\n",
    "        # If simulation did not end yet after last step - update Q table\n",
    "        if not done:\n",
    "\n",
    "            # Maximum possible Q value in next step (for new state)\n",
    "            max_future_q = np.max(q_table[new_discrete_state])\n",
    "\n",
    "            # Current Q value (for current state and performed action)\n",
    "            current_q = q_table[discrete_state + (action,)]\n",
    "\n",
    "            # And here's our equation for a new Q value for current state and action\n",
    "            new_q = (1 - LEARNING_RATE) * current_q + LEARNING_RATE * (reward + DISCOUNT * max_future_q)\n",
    "\n",
    "            # Update Q table with new Q value\n",
    "            q_table[discrete_state + (action,)] = new_q\n",
    "\n",
    "\n",
    "        # Simulation ended (for any reson) - if goal position is achived - update Q value with reward directly\n",
    "        elif new_state[0] >= env.goal_position:\n",
    "            #q_table[discrete_state + (action,)] = reward\n",
    "            q_table[discrete_state + (action,)] = 0\n",
    "\n",
    "        discrete_state = new_discrete_state\n",
    "\n",
    "        \n",
    "    # Decaying is being done every episode if episode number is within decaying range\n",
    "    if END_EPSILON_DECAYING >= episode >= START_EPSILON_DECAYING:\n",
    "        epsilon -= epsilon_decay_value\n",
    "        \n",
    "    ep_rewards.append(episode_reward)\n",
    "    if not episode % STATS_EVERY:\n",
    "        average_reward = sum(ep_rewards[-STATS_EVERY:])/STATS_EVERY\n",
    "        aggr_ep_rewards['ep'].append(episode)\n",
    "        aggr_ep_rewards['avg'].append(average_reward)\n",
    "        aggr_ep_rewards['max'].append(max(ep_rewards[-STATS_EVERY:]))\n",
    "        aggr_ep_rewards['min'].append(min(ep_rewards[-STATS_EVERY:]))\n",
    "        print(f'Episode: {episode:>5d}, average reward: {average_reward:>4.1f}, current epsilon: {epsilon:>1.2f}')\n",
    "\n",
    "env.close()"
   ]
  },
  {
   "cell_type": "code",
   "execution_count": 18,
   "metadata": {},
   "outputs": [
    {
     "name": "stdout",
     "output_type": "stream",
     "text": [
      "Score over time:  -179.155\n"
     ]
    }
   ],
   "source": [
    "print(\"Score over time: \",average_reward)"
   ]
  },
  {
   "cell_type": "markdown",
   "metadata": {},
   "source": [
    "__Visualization of Rewards:__"
   ]
  },
  {
   "cell_type": "code",
   "execution_count": 19,
   "metadata": {},
   "outputs": [
    {
     "data": {
      "image/png": "[encoded data removed]",
      "text/plain": [
       "<Figure size 432x288 with 1 Axes>"
      ]
     },
     "metadata": {
      "needs_background": "light"
     },
     "output_type": "display_data"
    }
   ],
   "source": [
    "plt.plot(aggr_ep_rewards['ep'], aggr_ep_rewards['avg'], label=\"average rewards\")\n",
    "plt.plot(aggr_ep_rewards['ep'], aggr_ep_rewards['max'], label=\"max rewards\")\n",
    "plt.plot(aggr_ep_rewards['ep'], aggr_ep_rewards['min'], label=\"min rewards\")\n",
    "plt.legend(loc=4)\n",
    "plt.show()"
   ]
  },
  {
   "cell_type": "markdown",
   "metadata": {},
   "source": [
    "__Changing LEARNING RATE & DISCOUNT RATE__ (alpha & gamma) : "
   ]
  },
  {
   "cell_type": "code",
   "execution_count": 43,
   "metadata": {},
   "outputs": [
    {
     "name": "stdout",
     "output_type": "stream",
     "text": [
      "Episode:     0, average reward: -0.2, current epsilon: 1.00\n",
      "Episode:  1000, average reward: -147.3, current epsilon: -9.00\n",
      "Episode:  2000, average reward: -138.0, current epsilon: -19.00\n",
      "Episode:  3000, average reward: -136.8, current epsilon: -29.00\n",
      "Episode:  4000, average reward: -135.9, current epsilon: -29.00\n",
      "Episode:  5000, average reward: -135.8, current epsilon: -29.00\n",
      "Episode:  6000, average reward: -135.8, current epsilon: -29.00\n"
     ]
    }
   ],
   "source": [
    "# LEARNING_RATE= 0.1, DISCOUNT = 0.95\n",
    "\n",
    "ep_rewards = []\n",
    "aggr_ep_rewards = {'ep': [], 'avg': [], 'max': [], 'min': []}\n",
    "\n",
    "LEARNING_RATE = 0.1\n",
    "DISCOUNT = 0.95\n",
    "EPISODES = 6001\n",
    "SHOW_EVERY = 1000\n",
    "STATS_EVERY = 1000\n",
    "\n",
    "epsilon = 1 \n",
    "START_EPSILON_DECAYING = 1\n",
    "END_EPSILON_DECAYING = EPISODES//2\n",
    "epsilon_decay_value = 0.01\n",
    "#epsilon_decay_value = epsilon/(END_EPSILON_DECAYING - START_EPSILON_DECAYING)\n",
    "\n",
    "for episode in range(EPISODES):\n",
    "    episode_reward = 0\n",
    "    discrete_state = get_discrete_state(env.reset())\n",
    "    done = False\n",
    "\n",
    "    while not done:\n",
    "\n",
    "        if np.random.random() > epsilon: \n",
    "            action = np.argmax(q_table[discrete_state])\n",
    "        else:\n",
    "            action = np.random.randint(0, env.action_space.n)\n",
    "\n",
    "\n",
    "        new_state, reward, done, _ = env.step(action)\n",
    "        episode_reward += reward\n",
    "\n",
    "        new_discrete_state = get_discrete_state(new_state)\n",
    "\n",
    "        if episode % SHOW_EVERY == 0:\n",
    "            env.render()\n",
    "        if not done:\n",
    "            max_future_q = np.max(q_table[new_discrete_state])\n",
    "            current_q = q_table[discrete_state + (action,)]\n",
    "            new_q = (1 - LEARNING_RATE) * current_q + LEARNING_RATE * (reward + DISCOUNT * max_future_q)\n",
    "            q_table[discrete_state + (action,)] = new_q\n",
    "\n",
    "\n",
    "        elif new_state[0] >= env.goal_position:\n",
    "            q_table[discrete_state + (action,)] = 0\n",
    "\n",
    "        discrete_state = new_discrete_state\n",
    "\n",
    "        if done == True: \n",
    "            break\n",
    "                \n",
    "    if END_EPSILON_DECAYING >= episode >= START_EPSILON_DECAYING:\n",
    "        epsilon -= epsilon_decay_value\n",
    "        \n",
    "    ep_rewards.append(episode_reward)\n",
    "    if not episode % STATS_EVERY:\n",
    "        average_reward = sum(ep_rewards[-STATS_EVERY:])/STATS_EVERY\n",
    "        aggr_ep_rewards['ep'].append(episode)\n",
    "        aggr_ep_rewards['avg'].append(average_reward)\n",
    "        aggr_ep_rewards['max'].append(max(ep_rewards[-STATS_EVERY:]))\n",
    "        aggr_ep_rewards['min'].append(min(ep_rewards[-STATS_EVERY:]))\n",
    "        print(f'Episode: {episode:>5d}, average reward: {average_reward:>4.1f}, current epsilon: {epsilon:>1.2f}')\n",
    "\n",
    "env.close()"
   ]
  },
  {
   "cell_type": "markdown",
   "metadata": {},
   "source": [
    "__Improved accuracy :__"
   ]
  },
  {
   "cell_type": "code",
   "execution_count": 44,
   "metadata": {},
   "outputs": [
    {
     "name": "stdout",
     "output_type": "stream",
     "text": [
      "Score over time:  -135.813\n"
     ]
    }
   ],
   "source": [
    "print(\"Score over time: \",average_reward)"
   ]
  },
  {
   "cell_type": "markdown",
   "metadata": {},
   "source": [
    "__Avg reward increased From -179 to -135__ which is __22%__. "
   ]
  },
  {
   "cell_type": "code",
   "execution_count": 45,
   "metadata": {},
   "outputs": [
    {
     "data": {
      "image/png": "[encoded data removed]",
      "text/plain": [
       "<Figure size 432x288 with 1 Axes>"
      ]
     },
     "metadata": {
      "needs_background": "light"
     },
     "output_type": "display_data"
    }
   ],
   "source": [
    "plt.plot(aggr_ep_rewards['ep'], aggr_ep_rewards['avg'], label=\"average rewards\")\n",
    "plt.plot(aggr_ep_rewards['ep'], aggr_ep_rewards['max'], label=\"max rewards\")\n",
    "plt.plot(aggr_ep_rewards['ep'], aggr_ep_rewards['min'], label=\"min rewards\")\n",
    "plt.legend(loc=4)\n",
    "plt.show()"
   ]
  },
  {
   "cell_type": "markdown",
   "metadata": {},
   "source": [
    "__Trying different value for epsilon and decay_rate :__"
   ]
  },
  {
   "cell_type": "code",
   "execution_count": 51,
   "metadata": {},
   "outputs": [
    {
     "name": "stdout",
     "output_type": "stream",
     "text": [
      "Episode:     0, average reward: -0.2, current epsilon: 2.00\n",
      "Episode:  1000, average reward: -200.0, current epsilon: 1.33\n",
      "Episode:  2000, average reward: -200.0, current epsilon: 0.67\n",
      "Episode:  3000, average reward: -200.0, current epsilon: -0.00\n",
      "Episode:  4000, average reward: -200.0, current epsilon: -0.00\n",
      "Episode:  5000, average reward: -200.0, current epsilon: -0.00\n",
      "Episode:  6000, average reward: -200.0, current epsilon: -0.00\n"
     ]
    }
   ],
   "source": [
    "## epsilon = 2, epsilon/(END_EPSILON_DECAYING - START_EPSILON_DECAYING)\n",
    "\n",
    "ep_rewards = []\n",
    "aggr_ep_rewards = {'ep': [], 'avg': [], 'max': [], 'min': []}\n",
    "\n",
    "LEARNING_RATE = 0.1\n",
    "DISCOUNT = 0.9\n",
    "EPISODES = 6001\n",
    "SHOW_EVERY = 1000\n",
    "STATS_EVERY = 1000\n",
    "\n",
    "\n",
    "epsilon = 2 \n",
    "START_EPSILON_DECAYING = 2\n",
    "END_EPSILON_DECAYING = EPISODES//2\n",
    "#epsilon_decay_value = 0.05\n",
    "epsilon_decay_value = epsilon/(END_EPSILON_DECAYING - START_EPSILON_DECAYING)\n",
    "\n",
    "\n",
    "for episode in range(EPISODES):\n",
    "    episode_reward = 0\n",
    "    \n",
    "    discrete_state = get_discrete_state(env.reset())\n",
    "    done = False\n",
    "\n",
    "\n",
    "    while not done:\n",
    "\n",
    "        if np.random.random() > epsilon:\n",
    "            action = np.argmax(q_table[discrete_state])\n",
    "        else:\n",
    "            action = np.random.randint(0, env.action_space.n)\n",
    "\n",
    "        new_state, reward, done, _ = env.step(action)\n",
    "        episode_reward += reward\n",
    "\n",
    "        new_discrete_state = get_discrete_state(new_state)\n",
    "\n",
    "        if episode % SHOW_EVERY == 0:\n",
    "            env.render()\n",
    "        \n",
    "        if not done:\n",
    "\n",
    "            max_future_q = np.max(q_table[new_discrete_state])\n",
    "            current_q = q_table[discrete_state + (action,)]\n",
    "            new_q = (1 - LEARNING_RATE) * current_q + LEARNING_RATE * (reward + DISCOUNT * max_future_q)\n",
    "            q_table[discrete_state + (action,)] = new_q\n",
    "\n",
    "        elif new_state[0] >= env.goal_position:\n",
    "            q_table[discrete_state + (action,)] = 0\n",
    "\n",
    "        discrete_state = new_discrete_state\n",
    "\n",
    "    if END_EPSILON_DECAYING >= episode >= START_EPSILON_DECAYING:\n",
    "        epsilon -= epsilon_decay_value\n",
    "        \n",
    "        \n",
    "    ep_rewards.append(episode_reward)\n",
    "    if not episode % STATS_EVERY:\n",
    "        average_reward = sum(ep_rewards[-STATS_EVERY:])/STATS_EVERY\n",
    "        aggr_ep_rewards['ep'].append(episode)\n",
    "        aggr_ep_rewards['avg'].append(average_reward)\n",
    "        aggr_ep_rewards['max'].append(max(ep_rewards[-STATS_EVERY:]))\n",
    "        aggr_ep_rewards['min'].append(min(ep_rewards[-STATS_EVERY:]))\n",
    "        print(f'Episode: {episode:>5d}, average reward: {average_reward:>4.1f}, current epsilon: {epsilon:>1.2f}')\n",
    "\n",
    "env.close()"
   ]
  },
  {
   "cell_type": "markdown",
   "metadata": {},
   "source": [
    "__Different Policy for Q(s',a'):__\n",
    "\n",
    "Instead of np.max, Taking mean of Q(s',a') [np.mean]\n"
   ]
  },
  {
   "cell_type": "code",
   "execution_count": 60,
   "metadata": {},
   "outputs": [],
   "source": [
    "DISCRETE_OS_SIZE = [20, 20]\n",
    "DISCRETE_OS_SIZE = [20] * len(env.observation_space.high) #observation_space\n",
    "discrete_os_win_size = (env.observation_space.high - env.observation_space.low)/DISCRETE_OS_SIZE\n",
    "## Q-table\n",
    "q_table = np.random.uniform(low=-2, high=0, size=(DISCRETE_OS_SIZE + [env.action_space.n]))"
   ]
  },
  {
   "cell_type": "code",
   "execution_count": 61,
   "metadata": {},
   "outputs": [],
   "source": [
    "def get_discrete_state(state):\n",
    "    discrete_state = (state - env.observation_space.low)/discrete_os_win_size\n",
    "    return tuple(discrete_state.astype(np.int))\n",
    "# we use this tuple to look up the 3 Q values for the available actions in the q-table"
   ]
  },
  {
   "cell_type": "code",
   "execution_count": 62,
   "metadata": {},
   "outputs": [
    {
     "name": "stdout",
     "output_type": "stream",
     "text": [
      "Episode:     0, average reward: -0.2, current epsilon: 1.00\n",
      "Episode:  1000, average reward: -199.0, current epsilon: -9.00\n",
      "Episode:  2000, average reward: -187.8, current epsilon: -19.00\n",
      "Episode:  3000, average reward: -185.3, current epsilon: -29.00\n",
      "Episode:  4000, average reward: -176.1, current epsilon: -29.00\n",
      "Episode:  5000, average reward: -164.5, current epsilon: -29.00\n",
      "Episode:  6000, average reward: -160.9, current epsilon: -29.00\n"
     ]
    }
   ],
   "source": [
    "## Q(s',a') -> np.mean(q_table[])\n",
    "\n",
    "EPISODES = 6001\n",
    "LEARNING_RATE = 0.1\n",
    "DISCOUNT = 0.95\n",
    "\n",
    "# Exploration settings\n",
    "epsilon = 1  # not a constant, qoing to be decayed\n",
    "epsilon_decay_value = 0.01\n",
    "\n",
    "START_EPSILON_DECAYING = 1\n",
    "END_EPSILON_DECAYING = EPISODES//2\n",
    "\n",
    "SHOW_EVERY = 1000\n",
    "STATS_EVERY = 1000\n",
    "\n",
    "ep_rewards = []\n",
    "aggr_ep_rewards = {'ep': [], 'avg': [], 'max': [], 'min': []}\n",
    "\n",
    "for episode in range(EPISODES):\n",
    "    episode_reward = 0\n",
    "    \n",
    "    discrete_state = get_discrete_state(env.reset())\n",
    "    done = False\n",
    "\n",
    "    while not done:\n",
    "\n",
    "        if np.random.random() > epsilon: \n",
    "            action = np.argmax(q_table[discrete_state])\n",
    "        else:\n",
    "            action = np.random.randint(0, env.action_space.n)\n",
    "\n",
    "\n",
    "        new_state, reward, done, _ = env.step(action)\n",
    "        episode_reward += reward\n",
    "\n",
    "        new_discrete_state = get_discrete_state(new_state)\n",
    "\n",
    "        if episode % SHOW_EVERY == 0:\n",
    "            env.render()\n",
    "        \n",
    "        if not done:\n",
    "            ## Changed from np.max to np.mean\n",
    "            max_future_q = np.mean(q_table[new_discrete_state])\n",
    "            \n",
    "            current_q = q_table[discrete_state + (action,)]\n",
    "            new_q = (1 - LEARNING_RATE) * current_q + LEARNING_RATE * (reward + DISCOUNT * max_future_q)\n",
    "            q_table[discrete_state + (action,)] = new_q\n",
    "\n",
    "        elif new_state[0] >= env.goal_position:\n",
    "            q_table[discrete_state + (action,)] = 0\n",
    "\n",
    "        discrete_state = new_discrete_state\n",
    "\n",
    "    if END_EPSILON_DECAYING >= episode >= START_EPSILON_DECAYING:\n",
    "        epsilon -= epsilon_decay_value\n",
    "        \n",
    "    ep_rewards.append(episode_reward)\n",
    "    if not episode % STATS_EVERY:\n",
    "        average_reward = sum(ep_rewards[-STATS_EVERY:])/STATS_EVERY\n",
    "        aggr_ep_rewards['ep'].append(episode)\n",
    "        aggr_ep_rewards['avg'].append(average_reward)\n",
    "        aggr_ep_rewards['max'].append(max(ep_rewards[-STATS_EVERY:]))\n",
    "        aggr_ep_rewards['min'].append(min(ep_rewards[-STATS_EVERY:]))\n",
    "        print(f'Episode: {episode:>5d}, average reward: {average_reward:>4.1f}, current epsilon: {epsilon:>1.2f}')\n",
    "\n",
    "env.close()"
   ]
  },
  {
   "cell_type": "code",
   "execution_count": 64,
   "metadata": {},
   "outputs": [
    {
     "name": "stdout",
     "output_type": "stream",
     "text": [
      "Score over time after changing the policy:  -160.902\n"
     ]
    }
   ],
   "source": [
    "print(\"Score over time after changing the policy: \",average_reward)"
   ]
  },
  {
   "cell_type": "markdown",
   "metadata": {},
   "source": [
    "__Average Steps per episode:__"
   ]
  },
  {
   "cell_type": "code",
   "execution_count": 71,
   "metadata": {},
   "outputs": [
    {
     "name": "stdout",
     "output_type": "stream",
     "text": [
      "Avg steps per episode :  148\n"
     ]
    }
   ],
   "source": [
    "print(\"Avg steps per episode : \", cnt//EPISODES)"
   ]
  },
  {
   "cell_type": "markdown",
   "metadata": {},
   "source": [
    "# Conclusion:\n",
    "\n",
    ">MountainCar problem successfully implemented using openAI Reinforcement Learning environment.<br> \n",
    "> Accuracy is increased by 22% by changing the baseline parameter values of alpha and gamma.<br> \n",
    "> We can Change MAX Q(s',a') function in the bellman's equation and still get better accuracy.<br>\n",
    "> Expected lifetime value in the Bellman equation is depends on optimality of State-Value Function.<br>\n",
    "             "
   ]
  },
  {
   "cell_type": "markdown",
   "metadata": {},
   "source": [
    "# Author: \n",
    "Pranav Khiste( NUID : 001057866 )<br>\n",
    "Information Systems <br>\n",
    "Northeastern University <br>"
   ]
  },
  {
   "cell_type": "markdown",
   "metadata": {},
   "source": [
    "# Citation:\n",
    "References: <br>\n",
    "https://github.com/openai/gym/wiki/MountainCar-v0 <br>\n",
    "https://pythonprogramming.net/q-learning-reinforcement-learning-python-tutorial/ <br>"
   ]
  },
  {
   "cell_type": "markdown",
   "metadata": {},
   "source": [
    "# Licensing"
   ]
  },
  {
   "cell_type": "markdown",
   "metadata": {},
   "source": [
    "Copyright 2020 Pranav Sanjay Khiste\n",
    "\n",
    "Permission is hereby granted, free of charge, to any person obtaining a copy of this software and associated documentation files (the \"Software\"), to deal in the Software without restriction, including without limitation the rights to use, copy, modify, merge, publish, distribute, sublicense, and/or sell copies of the Software, and to permit persons to whom the Software is furnished to do so, subject to the following conditions:\n",
    "\n",
    "The above copyright notice and this permission notice shall be included in all copies or substantial portions of the Software.\n",
    "\n",
    "THE SOFTWARE IS PROVIDED \"AS IS\", WITHOUT WARRANTY OF ANY KIND, EXPRESS OR IMPLIED, INCLUDING BUT NOT LIMITED TO THE WARRANTIES OF MERCHANTABILITY, FITNESS FOR A PARTICULAR PURPOSE AND NONINFRINGEMENT. IN NO EVENT SHALL THE AUTHORS OR COPYRIGHT HOLDERS BE LIABLE FOR ANY CLAIM, DAMAGES OR OTHER LIABILITY, WHETHER IN AN ACTION OF CONTRACT, TORT OR OTHERWISE, ARISING FROM, OUT OF OR IN CONNECTION WITH THE SOFTWARE OR THE USE OR OTHER DEALINGS IN THE SOFTWARE."
   ]
  }
 ],
 "metadata": {
  "kernelspec": {
   "display_name": "Python 3",
   "language": "python",
   "name": "python3"
  },
  "language_info": {
   "codemirror_mode": {
    "name": "ipython",
    "version": 3
   },
   "file_extension": ".py",
   "mimetype": "text/x-python",
   "name": "python",
   "nbconvert_exporter": "python",
   "pygments_lexer": "ipython3",
   "version": "3.8.3"
  }
 },
 "nbformat": 4,
 "nbformat_minor": 2
}
